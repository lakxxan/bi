{
 "cells": [
  {
   "cell_type": "markdown",
   "id": "dcbe247b",
   "metadata": {},
   "source": [
    "# 🚀 High-Performance Telegram Bot for Large Videos\n",
    "\n",
    "This notebook helps you run a Telegram bot on Google Colab that can:\n",
    "- ✅ Handle videos larger than 2GB\n",
    "- ✅ Support streaming playback\n",
    "- ✅ Upload to channels at high speed\n",
    "- ✅ Use 8 workers for parallel uploads"
   ]
  },
  {
   "cell_type": "markdown",
   "id": "65a5e5f1",
   "metadata": {},
   "source": [
    "## Step 1: Clone/Upload Your Bot Files\n",
    "\n",
    "Upload the bot files or clone from GitHub"
   ]
  },
  {
   "cell_type": "code",
   "execution_count": null,
   "id": "2004ee3b",
   "metadata": {},
   "outputs": [],
   "source": [
    "# Option A: Upload files manually to Colab\n",
    "# Use the file browser on the left to upload telegram_bot.py and requirements.txt\n",
    "\n",
    "# Option B: Clone from GitHub (if you have it in a repo)\n",
    "# !git clone https://github.com/yourusername/telegram-bot.git\n",
    "# %cd telegram-bot\n",
    "\n",
    "# Verify files exist\n",
    "!ls -la"
   ]
  },
  {
   "cell_type": "markdown",
   "id": "7ea27db3",
   "metadata": {},
   "source": [
    "## Step 2: Install Dependencies\n",
    "\n",
    "Install Pyrogram and TgCrypto for maximum speed"
   ]
  },
  {
   "cell_type": "code",
   "execution_count": null,
   "id": "9fb3b649",
   "metadata": {},
   "outputs": [],
   "source": [
    "!pip install -q pyrogram TgCrypto\n",
    "print(\"✅ Dependencies installed successfully!\")"
   ]
  },
  {
   "cell_type": "markdown",
   "id": "dabaa21f",
   "metadata": {},
   "source": [
    "## Step 3: Configure Your Bot\n",
    "\n",
    "### Get your credentials:\n",
    "\n",
    "1. **API_ID & API_HASH**: Visit https://my.telegram.org/apps\n",
    "   - Login with your phone number\n",
    "   - Create a new application\n",
    "   - Copy the `api_id` and `api_hash`\n",
    "\n",
    "2. **BOT_TOKEN**: Message @BotFather on Telegram\n",
    "   - Send `/newbot` command\n",
    "   - Follow the prompts to create your bot\n",
    "   - Copy the bot token\n",
    "\n",
    "3. **CHANNEL_ID** (Optional):\n",
    "   - Create a Telegram channel\n",
    "   - Add your bot as an administrator\n",
    "   - Use the channel username (e.g., `@mychannel`) or ID"
   ]
  },
  {
   "cell_type": "code",
   "execution_count": null,
   "id": "25e1298f",
   "metadata": {},
   "outputs": [],
   "source": [
    "import os\n",
    "\n",
    "# Set your credentials here\n",
    "os.environ[\"API_ID\"] = \"your_api_id\"  # Replace with your API ID\n",
    "os.environ[\"API_HASH\"] = \"your_api_hash\"  # Replace with your API Hash\n",
    "os.environ[\"BOT_TOKEN\"] = \"your_bot_token\"  # Replace with your Bot Token\n",
    "os.environ[\"CHANNEL_ID\"] = \"@your_channel\"  # Replace with your channel (optional)\n",
    "\n",
    "print(\"✅ Configuration set!\")"
   ]
  },
  {
   "cell_type": "markdown",
   "id": "eeaf9d64",
   "metadata": {},
   "source": [
    "## Step 4: Start the Bot\n",
    "\n",
    "Run this cell to start your bot. Keep it running!"
   ]
  },
  {
   "cell_type": "code",
   "execution_count": null,
   "id": "aa07f188",
   "metadata": {},
   "outputs": [],
   "source": [
    "# Start the bot\n",
    "!python telegram_bot.py"
   ]
  },
  {
   "cell_type": "markdown",
   "id": "16a80a94",
   "metadata": {},
   "source": [
    "## Alternative: Run in Background\n",
    "\n",
    "If you want to run the bot in background and do other tasks:"
   ]
  },
  {
   "cell_type": "code",
   "execution_count": null,
   "id": "6d95a2b5",
   "metadata": {},
   "outputs": [],
   "source": [
    "# Run bot in background\n",
    "import subprocess\n",
    "import time\n",
    "\n",
    "# Start bot process\n",
    "bot_process = subprocess.Popen(['python', 'telegram_bot.py'])\n",
    "time.sleep(5)  # Wait for bot to start\n",
    "\n",
    "print(\"✅ Bot is running in background!\")\n",
    "print(f\"Process ID: {bot_process.pid}\")\n",
    "print(\"\\nTo stop the bot, run: bot_process.terminate()\")"
   ]
  },
  {
   "cell_type": "markdown",
   "id": "aac1229f",
   "metadata": {},
   "source": [
    "## Usage Examples\n",
    "\n",
    "### 1. Upload a video from Colab to your channel:"
   ]
  },
  {
   "cell_type": "code",
   "execution_count": null,
   "id": "f844aa25",
   "metadata": {},
   "outputs": [],
   "source": [
    "# First, download or place your video in /content/\n",
    "# Example: download a sample video\n",
    "!wget https://sample-videos.com/video321/mp4/720/big_buck_bunny_720p_1mb.mp4 -O /content/sample.mp4\n",
    "\n",
    "# Then send command to bot: /upload /content/sample.mp4"
   ]
  },
  {
   "cell_type": "markdown",
   "id": "14efb706",
   "metadata": {},
   "source": [
    "### 2. Forward videos from another chat to your channel:\n",
    "\n",
    "Simply send any video to your bot, and it will automatically:\n",
    "- Download it to Colab\n",
    "- Re-upload to your channel with streaming support\n",
    "- Show real-time progress"
   ]
  },
  {
   "cell_type": "markdown",
   "id": "fc9e1b87",
   "metadata": {},
   "source": [
    "## Performance Tips\n",
    "\n",
    "1. **Use Colab Pro/Pro+**: Better GPU and faster internet\n",
    "2. **TgCrypto is enabled**: Provides 10-20x speed boost\n",
    "3. **8 workers**: Parallel uploads for maximum speed\n",
    "4. **Streaming support**: Videos can be played while uploading\n",
    "5. **Large files**: Tested with files >2GB\n",
    "\n",
    "## Troubleshooting\n",
    "\n",
    "**Bot not responding?**\n",
    "- Check your credentials are correct\n",
    "- Make sure the bot token is valid\n",
    "- Verify the bot is running (check the cell output)\n",
    "\n",
    "**Slow uploads?**\n",
    "- Make sure TgCrypto is installed: `!pip show TgCrypto`\n",
    "- Use Colab Pro for faster internet\n",
    "- Check your internet connection\n",
    "\n",
    "**File too large?**\n",
    "- Telegram bots can upload files up to 2GB\n",
    "- For larger files, split them or compress first"
   ]
  },
  {
   "cell_type": "markdown",
   "id": "6f9e406b",
   "metadata": {},
   "source": [
    "## Stop the Bot"
   ]
  },
  {
   "cell_type": "code",
   "execution_count": null,
   "id": "82a1eade",
   "metadata": {},
   "outputs": [],
   "source": [
    "# If running in background, stop it:\n",
    "try:\n",
    "    bot_process.terminate()\n",
    "    print(\"✅ Bot stopped!\")\n",
    "except:\n",
    "    print(\"ℹ️ Bot is not running in background mode\")"
   ]
  }
 ],
 "metadata": {
  "language_info": {
   "name": "python"
  }
 },
 "nbformat": 4,
 "nbformat_minor": 5
}
